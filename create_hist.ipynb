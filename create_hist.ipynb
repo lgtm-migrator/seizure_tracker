{
 "cells": [
  {
   "cell_type": "code",
   "execution_count": 94,
   "metadata": {},
   "outputs": [],
   "source": [
    "import pandas as pd"
   ]
  },
  {
   "cell_type": "code",
   "execution_count": 95,
   "metadata": {},
   "outputs": [],
   "source": [
    "from make_graphs import get_data"
   ]
  },
  {
   "cell_type": "code",
   "execution_count": 131,
   "metadata": {},
   "outputs": [],
   "source": [
    "df_url='https://docs.google.com/spreadsheets/d/e/2PACX-1vT1E1Y9IohHUf_WI6bOaJ162ZnRIv39tJbVF8C7Ow0-wqN-DDxslgTfhsUwvQUqoXn-grW89r_BRIyw/pub?gid=0&single=true&output=csv'\n",
    "# df=get_data(df_url, print_tail=False)\n",
    "df = pd.read_csv(df_url,  names=['Seizure'])"
   ]
  },
  {
   "cell_type": "code",
   "execution_count": 132,
   "metadata": {},
   "outputs": [
    {
     "output_type": "execute_result",
     "data": {
      "text/plain": "                     Seizure\n31  June 29, 2020 at 07:34AM\n32  June 29, 2020 at 07:42PM\n33  June 29, 2020 at 09:53PM\n34  June 30, 2020 at 06:37AM\n35  June 30, 2020 at 06:37AM",
      "text/html": "<div>\n<style scoped>\n    .dataframe tbody tr th:only-of-type {\n        vertical-align: middle;\n    }\n\n    .dataframe tbody tr th {\n        vertical-align: top;\n    }\n\n    .dataframe thead th {\n        text-align: right;\n    }\n</style>\n<table border=\"1\" class=\"dataframe\">\n  <thead>\n    <tr style=\"text-align: right;\">\n      <th></th>\n      <th>Seizure</th>\n    </tr>\n  </thead>\n  <tbody>\n    <tr>\n      <th>31</th>\n      <td>June 29, 2020 at 07:34AM</td>\n    </tr>\n    <tr>\n      <th>32</th>\n      <td>June 29, 2020 at 07:42PM</td>\n    </tr>\n    <tr>\n      <th>33</th>\n      <td>June 29, 2020 at 09:53PM</td>\n    </tr>\n    <tr>\n      <th>34</th>\n      <td>June 30, 2020 at 06:37AM</td>\n    </tr>\n    <tr>\n      <th>35</th>\n      <td>June 30, 2020 at 06:37AM</td>\n    </tr>\n  </tbody>\n</table>\n</div>"
     },
     "metadata": {},
     "execution_count": 132
    }
   ],
   "source": [
    "df.tail()"
   ]
  },
  {
   "cell_type": "code",
   "execution_count": 102,
   "metadata": {},
   "outputs": [
    {
     "output_type": "execute_result",
     "data": {
      "text/plain": "datetime.datetime(2020, 7, 8, 15, 41, tzinfo=tzlocal())"
     },
     "metadata": {},
     "execution_count": 102
    }
   ],
   "source": [
    "df.iloc[-1].name"
   ]
  },
  {
   "cell_type": "code",
   "execution_count": 153,
   "metadata": {},
   "outputs": [],
   "source": [
    "times = df.Seizure.to_numpy()"
   ]
  },
  {
   "cell_type": "code",
   "execution_count": 113,
   "metadata": {},
   "outputs": [],
   "source": [
    "import pytz"
   ]
  },
  {
   "cell_type": "code",
   "execution_count": 117,
   "metadata": {
    "tags": []
   },
   "outputs": [],
   "source": [
    "tz = pytz.timezone('Europe/London')"
   ]
  },
  {
   "cell_type": "code",
   "execution_count": null,
   "metadata": {},
   "outputs": [],
   "source": [
    "numpy.datetime64(time).item().replace(tzinfo=tz).isoformat('T')"
   ]
  },
  {
   "cell_type": "code",
   "execution_count": 134,
   "metadata": {},
   "outputs": [
    {
     "output_type": "error",
     "ename": "AttributeError",
     "evalue": "'int' object has no attribute 'replace'",
     "traceback": [
      "\u001b[0;31m---------------------------------------------------------------------------\u001b[0m",
      "\u001b[0;31mAttributeError\u001b[0m                            Traceback (most recent call last)",
      "\u001b[0;32m<ipython-input-134-b419c5bc92ff>\u001b[0m in \u001b[0;36m<module>\u001b[0;34m\u001b[0m\n\u001b[0;32m----> 1\u001b[0;31m \u001b[0mb\u001b[0m \u001b[0;34m=\u001b[0m \u001b[0;34m[\u001b[0m\u001b[0mnp\u001b[0m\u001b[0;34m.\u001b[0m\u001b[0mdatetime64\u001b[0m\u001b[0;34m(\u001b[0m\u001b[0mtime\u001b[0m\u001b[0;34m)\u001b[0m\u001b[0;34m.\u001b[0m\u001b[0mitem\u001b[0m\u001b[0;34m(\u001b[0m\u001b[0;34m)\u001b[0m\u001b[0;34m.\u001b[0m\u001b[0mreplace\u001b[0m\u001b[0;34m(\u001b[0m\u001b[0mtzinfo\u001b[0m\u001b[0;34m=\u001b[0m\u001b[0mtz\u001b[0m\u001b[0;34m)\u001b[0m\u001b[0;34m.\u001b[0m\u001b[0misoformat\u001b[0m\u001b[0;34m(\u001b[0m\u001b[0;34m'T'\u001b[0m\u001b[0;34m)\u001b[0m \u001b[0;32mfor\u001b[0m \u001b[0mtime\u001b[0m \u001b[0;32min\u001b[0m \u001b[0mtimes\u001b[0m\u001b[0;34m]\u001b[0m\u001b[0;34m\u001b[0m\u001b[0;34m\u001b[0m\u001b[0m\n\u001b[0m",
      "\u001b[0;32m<ipython-input-134-b419c5bc92ff>\u001b[0m in \u001b[0;36m<listcomp>\u001b[0;34m(.0)\u001b[0m\n\u001b[0;32m----> 1\u001b[0;31m \u001b[0mb\u001b[0m \u001b[0;34m=\u001b[0m \u001b[0;34m[\u001b[0m\u001b[0mnp\u001b[0m\u001b[0;34m.\u001b[0m\u001b[0mdatetime64\u001b[0m\u001b[0;34m(\u001b[0m\u001b[0mtime\u001b[0m\u001b[0;34m)\u001b[0m\u001b[0;34m.\u001b[0m\u001b[0mitem\u001b[0m\u001b[0;34m(\u001b[0m\u001b[0;34m)\u001b[0m\u001b[0;34m.\u001b[0m\u001b[0mreplace\u001b[0m\u001b[0;34m(\u001b[0m\u001b[0mtzinfo\u001b[0m\u001b[0;34m=\u001b[0m\u001b[0mtz\u001b[0m\u001b[0;34m)\u001b[0m\u001b[0;34m.\u001b[0m\u001b[0misoformat\u001b[0m\u001b[0;34m(\u001b[0m\u001b[0;34m'T'\u001b[0m\u001b[0;34m)\u001b[0m \u001b[0;32mfor\u001b[0m \u001b[0mtime\u001b[0m \u001b[0;32min\u001b[0m \u001b[0mtimes\u001b[0m\u001b[0;34m]\u001b[0m\u001b[0;34m\u001b[0m\u001b[0;34m\u001b[0m\u001b[0m\n\u001b[0m",
      "\u001b[0;31mAttributeError\u001b[0m: 'int' object has no attribute 'replace'"
     ]
    }
   ],
   "source": [
    "b = [np.datetime64(time).item().replace(tzinfo=tz).isoformat('T') for time in times]"
   ]
  },
  {
   "cell_type": "code",
   "execution_count": 137,
   "metadata": {},
   "outputs": [],
   "source": [
    "from dateutil import parser"
   ]
  },
  {
   "cell_type": "code",
   "execution_count": 168,
   "metadata": {},
   "outputs": [],
   "source": [
    "times = df.Seizure.to_numpy()"
   ]
  },
  {
   "cell_type": "code",
   "execution_count": 154,
   "metadata": {
    "tags": []
   },
   "outputs": [],
   "source": [
    "gmt_months = ['Ja', 'Fe', 'Ma']\n",
    "times = [time+ '+00:00' for time in times if time[:2] in gmt_months]"
   ]
  },
  {
   "cell_type": "code",
   "execution_count": 169,
   "metadata": {},
   "outputs": [],
   "source": [
    "gmt_months = ['Jan', 'Feb', 'Mar']\n",
    "t1 = []\n",
    "for time in times:\n",
    "    if time[:3] in gmt_months:\n",
    "        t1.append(time+' +00:00')\n",
    "        continue\n",
    "    t1.append(time+' +01:00')\n",
    "times = t1"
   ]
  },
  {
   "cell_type": "code",
   "execution_count": 170,
   "metadata": {},
   "outputs": [
    {
     "output_type": "execute_result",
     "data": {
      "text/plain": "['Jan 01, 2020 at 00:00AM +00:00',\n 'Jan 01, 2020 at 00:00AM +00:00',\n 'Jan 01, 2020 at 00:00AM +00:00',\n 'Jan 01, 2020 at 00:00AM +00:00',\n 'Jan 01, 2020 at 00:00AM +00:00',\n 'Jan 01, 2020 at 00:00AM +00:00',\n 'Jan 01, 2020 at 00:00AM +00:00',\n 'Jan 01, 2020 at 00:00AM +00:00',\n 'Jan 01, 2020 at 00:00AM +00:00',\n 'Jan 26, 2020 at 00:00AM +00:00',\n 'Jan 27, 2020 at 00:00AM +00:00',\n 'Feb 15, 2020 at 00:00AM +00:00',\n 'Mar 23, 2020 at 00:00AM +00:00',\n 'Mar 23, 2020 at 00:00AM +00:00',\n 'Mar 23, 2020 at 00:00AM +00:00',\n 'Apr 06, 2020 at 00:00AM +01:00',\n 'Apr 23, 2020 at 00:00AM +01:00',\n 'Apr 24, 2020 at 00:00AM +01:00',\n 'Apr 24, 2020 at 00:00AM +01:00',\n 'Apr 24, 2020 at 00:00AM +01:00',\n 'Apr 24, 2020 at 00:00AM +01:00',\n 'May 11, 2020 at 00:00AM +01:00',\n 'May 11, 2020 at 00:00AM +01:00',\n 'May 30, 2020 at 00:00AM +01:00',\n 'May 30, 2020 at 00:00AM +01:00',\n 'May 30, 2020 at 00:00AM +01:00',\n 'May 30, 2020 at 00:00AM +01:00',\n 'May 30, 2020 at 00:00AM +01:00',\n 'May 30, 2020 at 00:00AM +01:00',\n 'June 17, 2020 at 07:50PM +01:00',\n 'June 29, 2020 at 02:04AM +01:00',\n 'June 29, 2020 at 07:34AM +01:00',\n 'June 29, 2020 at 07:42PM +01:00',\n 'June 29, 2020 at 09:53PM +01:00',\n 'June 30, 2020 at 06:37AM +01:00',\n 'June 30, 2020 at 06:37AM +01:00']"
     },
     "metadata": {},
     "execution_count": 170
    }
   ],
   "source": [
    "t1"
   ]
  },
  {
   "cell_type": "code",
   "execution_count": 171,
   "metadata": {},
   "outputs": [],
   "source": [
    "times = [parser.parse(time) for time in times]"
   ]
  },
  {
   "cell_type": "code",
   "execution_count": 172,
   "metadata": {},
   "outputs": [
    {
     "output_type": "execute_result",
     "data": {
      "text/plain": "[datetime.datetime(2020, 1, 1, 0, 0, tzinfo=tzutc()),\n datetime.datetime(2020, 1, 1, 0, 0, tzinfo=tzutc()),\n datetime.datetime(2020, 1, 1, 0, 0, tzinfo=tzutc()),\n datetime.datetime(2020, 1, 1, 0, 0, tzinfo=tzutc()),\n datetime.datetime(2020, 1, 1, 0, 0, tzinfo=tzutc()),\n datetime.datetime(2020, 1, 1, 0, 0, tzinfo=tzutc()),\n datetime.datetime(2020, 1, 1, 0, 0, tzinfo=tzutc()),\n datetime.datetime(2020, 1, 1, 0, 0, tzinfo=tzutc()),\n datetime.datetime(2020, 1, 1, 0, 0, tzinfo=tzutc()),\n datetime.datetime(2020, 1, 26, 0, 0, tzinfo=tzutc()),\n datetime.datetime(2020, 1, 27, 0, 0, tzinfo=tzutc()),\n datetime.datetime(2020, 2, 15, 0, 0, tzinfo=tzutc()),\n datetime.datetime(2020, 3, 23, 0, 0, tzinfo=tzutc()),\n datetime.datetime(2020, 3, 23, 0, 0, tzinfo=tzutc()),\n datetime.datetime(2020, 3, 23, 0, 0, tzinfo=tzutc()),\n datetime.datetime(2020, 4, 6, 0, 0, tzinfo=tzoffset(None, 3600)),\n datetime.datetime(2020, 4, 23, 0, 0, tzinfo=tzoffset(None, 3600)),\n datetime.datetime(2020, 4, 24, 0, 0, tzinfo=tzoffset(None, 3600)),\n datetime.datetime(2020, 4, 24, 0, 0, tzinfo=tzoffset(None, 3600)),\n datetime.datetime(2020, 4, 24, 0, 0, tzinfo=tzoffset(None, 3600)),\n datetime.datetime(2020, 4, 24, 0, 0, tzinfo=tzoffset(None, 3600)),\n datetime.datetime(2020, 5, 11, 0, 0, tzinfo=tzoffset(None, 3600)),\n datetime.datetime(2020, 5, 11, 0, 0, tzinfo=tzoffset(None, 3600)),\n datetime.datetime(2020, 5, 30, 0, 0, tzinfo=tzoffset(None, 3600)),\n datetime.datetime(2020, 5, 30, 0, 0, tzinfo=tzoffset(None, 3600)),\n datetime.datetime(2020, 5, 30, 0, 0, tzinfo=tzoffset(None, 3600)),\n datetime.datetime(2020, 5, 30, 0, 0, tzinfo=tzoffset(None, 3600)),\n datetime.datetime(2020, 5, 30, 0, 0, tzinfo=tzoffset(None, 3600)),\n datetime.datetime(2020, 5, 30, 0, 0, tzinfo=tzoffset(None, 3600)),\n datetime.datetime(2020, 6, 17, 19, 50, tzinfo=tzoffset(None, 3600)),\n datetime.datetime(2020, 6, 29, 2, 4, tzinfo=tzoffset(None, 3600)),\n datetime.datetime(2020, 6, 29, 7, 34, tzinfo=tzoffset(None, 3600)),\n datetime.datetime(2020, 6, 29, 19, 42, tzinfo=tzoffset(None, 3600)),\n datetime.datetime(2020, 6, 29, 21, 53, tzinfo=tzoffset(None, 3600)),\n datetime.datetime(2020, 6, 30, 6, 37, tzinfo=tzoffset(None, 3600)),\n datetime.datetime(2020, 6, 30, 6, 37, tzinfo=tzoffset(None, 3600))]"
     },
     "metadata": {},
     "execution_count": 172
    }
   ],
   "source": [
    "times"
   ]
  },
  {
   "cell_type": "code",
   "execution_count": 173,
   "metadata": {},
   "outputs": [],
   "source": [
    "q= times[0]"
   ]
  },
  {
   "cell_type": "code",
   "execution_count": 174,
   "metadata": {},
   "outputs": [
    {
     "output_type": "execute_result",
     "data": {
      "text/plain": "datetime.datetime(2020, 1, 1, 0, 0, tzinfo=tzutc())"
     },
     "metadata": {},
     "execution_count": 174
    }
   ],
   "source": [
    "q"
   ]
  },
  {
   "cell_type": "code",
   "execution_count": 180,
   "metadata": {},
   "outputs": [
    {
     "output_type": "execute_result",
     "data": {
      "text/plain": "[' 1 Jan 2020 at 00:00:00 UTC',\n ' 1 Jan 2020 at 00:00:00 UTC',\n ' 1 Jan 2020 at 00:00:00 UTC',\n ' 1 Jan 2020 at 00:00:00 UTC',\n ' 1 Jan 2020 at 00:00:00 UTC',\n ' 1 Jan 2020 at 00:00:00 UTC',\n ' 1 Jan 2020 at 00:00:00 UTC',\n ' 1 Jan 2020 at 00:00:00 UTC',\n ' 1 Jan 2020 at 00:00:00 UTC',\n '26 Jan 2020 at 00:00:00 UTC',\n '27 Jan 2020 at 00:00:00 UTC',\n '15 Feb 2020 at 00:00:00 UTC',\n '23 Mar 2020 at 00:00:00 UTC',\n '23 Mar 2020 at 00:00:00 UTC',\n '23 Mar 2020 at 00:00:00 UTC',\n ' 6 Apr 2020 at 00:00:00 ',\n '23 Apr 2020 at 00:00:00 ',\n '24 Apr 2020 at 00:00:00 ',\n '24 Apr 2020 at 00:00:00 ',\n '24 Apr 2020 at 00:00:00 ',\n '24 Apr 2020 at 00:00:00 ',\n '11 May 2020 at 00:00:00 ',\n '11 May 2020 at 00:00:00 ',\n '30 May 2020 at 00:00:00 ',\n '30 May 2020 at 00:00:00 ',\n '30 May 2020 at 00:00:00 ',\n '30 May 2020 at 00:00:00 ',\n '30 May 2020 at 00:00:00 ',\n '30 May 2020 at 00:00:00 ',\n '17 Jun 2020 at 19:50:00 ',\n '29 Jun 2020 at 02:04:00 ',\n '29 Jun 2020 at 07:34:00 ',\n '29 Jun 2020 at 19:42:00 ',\n '29 Jun 2020 at 21:53:00 ',\n '30 Jun 2020 at 06:37:00 ',\n '30 Jun 2020 at 06:37:00 ']"
     },
     "metadata": {},
     "execution_count": 180
    }
   ],
   "source": [
    "times = [time.strftime(r'%e %b %Y at %H:%M:%S %Z') for time in times]\n",
    "times"
   ]
  },
  {
   "cell_type": "code",
   "execution_count": 201,
   "metadata": {
    "tags": []
   },
   "outputs": [],
   "source": [
    "t2 = []\n",
    "for time in times:\n",
    "    this_time = time\n",
    "    if this_time[0]==' ':\n",
    "        this_time = this_time[1:]\n",
    "    if this_time[-1] == ' ':\n",
    "        this_time = this_time + 'BST'\n",
    "    t2.append(this_time)\n"
   ]
  },
  {
   "cell_type": "code",
   "execution_count": 202,
   "metadata": {},
   "outputs": [
    {
     "output_type": "execute_result",
     "data": {
      "text/plain": "['1 Jan 2020 at 00:00:00 UTC',\n '1 Jan 2020 at 00:00:00 UTC',\n '1 Jan 2020 at 00:00:00 UTC',\n '1 Jan 2020 at 00:00:00 UTC',\n '1 Jan 2020 at 00:00:00 UTC',\n '1 Jan 2020 at 00:00:00 UTC',\n '1 Jan 2020 at 00:00:00 UTC',\n '1 Jan 2020 at 00:00:00 UTC',\n '1 Jan 2020 at 00:00:00 UTC',\n '26 Jan 2020 at 00:00:00 UTC',\n '27 Jan 2020 at 00:00:00 UTC',\n '15 Feb 2020 at 00:00:00 UTC',\n '23 Mar 2020 at 00:00:00 UTC',\n '23 Mar 2020 at 00:00:00 UTC',\n '23 Mar 2020 at 00:00:00 UTC',\n '6 Apr 2020 at 00:00:00 BST',\n '23 Apr 2020 at 00:00:00 BST',\n '24 Apr 2020 at 00:00:00 BST',\n '24 Apr 2020 at 00:00:00 BST',\n '24 Apr 2020 at 00:00:00 BST',\n '24 Apr 2020 at 00:00:00 BST',\n '11 May 2020 at 00:00:00 BST',\n '11 May 2020 at 00:00:00 BST',\n '30 May 2020 at 00:00:00 BST',\n '30 May 2020 at 00:00:00 BST',\n '30 May 2020 at 00:00:00 BST',\n '30 May 2020 at 00:00:00 BST',\n '30 May 2020 at 00:00:00 BST',\n '30 May 2020 at 00:00:00 BST',\n '17 Jun 2020 at 19:50:00 BST',\n '29 Jun 2020 at 02:04:00 BST',\n '29 Jun 2020 at 07:34:00 BST',\n '29 Jun 2020 at 19:42:00 BST',\n '29 Jun 2020 at 21:53:00 BST',\n '30 Jun 2020 at 06:37:00 BST',\n '30 Jun 2020 at 06:37:00 BST']"
     },
     "metadata": {},
     "execution_count": 202
    }
   ],
   "source": [
    "t2"
   ]
  },
  {
   "cell_type": "code",
   "execution_count": null,
   "metadata": {},
   "outputs": [],
   "source": []
  }
 ],
 "metadata": {
  "language_info": {
   "codemirror_mode": {
    "name": "ipython",
    "version": 3
   },
   "file_extension": ".py",
   "mimetype": "text/x-python",
   "name": "python",
   "nbconvert_exporter": "python",
   "pygments_lexer": "ipython3",
   "version": "3.7.6-final"
  },
  "orig_nbformat": 2,
  "kernelspec": {
   "name": "python3",
   "display_name": "Python 3"
  }
 },
 "nbformat": 4,
 "nbformat_minor": 2
}